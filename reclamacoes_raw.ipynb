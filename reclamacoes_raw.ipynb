{
	"metadata": {
		"kernelspec": {
			"name": "glue_pyspark",
			"display_name": "Glue PySpark",
			"language": "python"
		},
		"language_info": {
			"name": "Python_Glue_Session",
			"mimetype": "text/x-python",
			"codemirror_mode": {
				"name": "python",
				"version": 3
			},
			"pygments_lexer": "python3",
			"file_extension": ".py"
		}
	},
	"nbformat_minor": 4,
	"nbformat": 4,
	"cells": [
		{
			"cell_type": "markdown",
			"source": "# Import",
			"metadata": {}
		},
		{
			"cell_type": "code",
			"source": "import pandas as pd\nfrom pyspark.sql import SparkSession\nfrom pyspark.sql.functions import col,regexp_replace\nimport pyarrow as pa\nimport pyarrow.parquet as pq",
			"metadata": {
				"trusted": true,
				"tags": []
			},
			"execution_count": 1,
			"outputs": [
				{
					"name": "stdout",
					"text": "Welcome to the Glue Interactive Sessions Kernel\nFor more information on available magic commands, please type %help in any new cell.\n\nPlease view our Getting Started page to access the most up-to-date information on the Interactive Sessions kernel: https://docs.aws.amazon.com/glue/latest/dg/interactive-sessions.html\nInstalled kernel version: 0.38.1 \nAuthenticating with environment variables and user-defined glue_role_arn: arn:aws:iam::218606466161:role/LabRole\nTrying to create a Glue session for the kernel.\nWorker Type: G.1X\nNumber of Workers: 5\nSession ID: 4a6e11d4-bd7d-48ab-87c5-0c5e47b7b034\nJob Type: glueetl\nApplying the following default arguments:\n--glue_kernel_version 0.38.1\n--enable-glue-datacatalog true\nWaiting for session 4a6e11d4-bd7d-48ab-87c5-0c5e47b7b034 to get into ready status...\nSession 4a6e11d4-bd7d-48ab-87c5-0c5e47b7b034 has been created.\n\n",
					"output_type": "stream"
				}
			]
		},
		{
			"cell_type": "code",
			"source": "# Inicialize a sessão Spark\nspark = SparkSession.builder \\\n    .appName(\"ReadS3DataReclamacoes\") \\\n    .getOrCreate()\n\n# Construa o caminho completo para o arquivo no S3\ns3_path = f\"s3://218606466161-raw/Reclamações/*.csv\"\noutput_s3_path = \"s3://218606466161-trusted/Reclamacoes/\"\n\n# Leia o arquivo CSV do S3\ndf_reclamacoes = spark.read.option(\"encoding\", \"UTF-8\").csv(s3_path, header=True, inferSchema=True, sep=';')\n",
			"metadata": {
				"trusted": true,
				"tags": []
			},
			"execution_count": 2,
			"outputs": [
				{
					"name": "stdout",
					"text": "\n",
					"output_type": "stream"
				}
			]
		},
		{
			"cell_type": "code",
			"source": "#Tratando os nomes\ndf_reclamacoes = df_reclamacoes.withColumnRenamed(\"Quantidade total de clientes – CCS e SCR\", \"Quantidade total de clientes\")\n\n#Fazendo as agregações\ndf_reclamacoes = df_reclamacoes.groupby(\"Instituição financeira\").agg({\n        'Índice': 'min',\n        'Quantidade total de reclamações': 'sum',\n        'Quantidade total de clientes': 'mean'\n    })",
			"metadata": {
				"trusted": true,
				"tags": []
			},
			"execution_count": 3,
			"outputs": [
				{
					"name": "stdout",
					"text": "\n",
					"output_type": "stream"
				}
			]
		},
		{
			"cell_type": "code",
			"source": "#Tratando colunas\ndf_reclamacoes_filtrado = df_reclamacoes.withColumn(\"Instituição financeira\", regexp_replace(col('Instituição financeira'), \" \\(conglomerado\\)\", \"\")) \\\n                          .withColumnRenamed(\"Instituição financeira\", \"Nome\") \\\n                          .withColumnRenamed(\"min(Índice)\", \"indice\") \\\n                          .withColumnRenamed(\"sum(Quantidade total de reclamações)\", \"qtd_total_reclamacoes\") \\\n                          .withColumnRenamed(\"avg(Quantidade total de clientes)\", \"qtd_total_clientes\")",
			"metadata": {
				"trusted": true,
				"tags": []
			},
			"execution_count": 4,
			"outputs": [
				{
					"name": "stdout",
					"text": "\n",
					"output_type": "stream"
				}
			]
		},
		{
			"cell_type": "code",
			"source": "df_reclamacoes_filtrado.show()",
			"metadata": {
				"trusted": true,
				"tags": []
			},
			"execution_count": 5,
			"outputs": [
				{
					"name": "stdout",
					"text": "+--------------------+------+---------------------+--------------------+\n|                Nome|indice|qtd_total_reclamacoes|  qtd_total_clientes|\n+--------------------+------+---------------------+--------------------+\n|                 BBC|      |                   20|              5929.0|\n|FORTBRASIL ADMINI...|      |                   28|            637834.0|\n|            ORIGINAL| 14,35|                10168|2.5494336285714287E7|\n|BANCO DA CHINA BR...|      |                    3|   492.6666666666667|\n|BANCO DE LAGE LAN...|      |                    4|            35777.25|\n|BBVA BRASIL BANCO...|      |                    1|                 0.0|\n|         BNP PARIBAS|125,22|                 4624|  2211990.5714285714|\n|   BNQI - FINANCEIRO|      |                  320|                 0.0|\n|FISERV DO BRASIL ...|      |                    2|                93.0|\n|          GRUPO ZEMA|      |                   88|  474978.14285714284|\n|SF3 CRÉDITO, FINA...|      |                    9|             28015.5|\n|             ANDBANK|      |                   28|   8188.714285714285|\n|    BANCO FIBRA S.A.|      |                   17|  163767.16666666666|\n|                 PAN|245,28|                 3953|           8907890.0|\n|TODESCREDI S/A - ...|      |                    3|  37316.333333333336|\n|             BANCOOB|      |                   68|           4576738.0|\n|SANTANA S.A. - CR...|      |                    7|  29486.333333333332|\n|                 UBS|      |                    6|                 0.0|\n|BANCO OURINVEST S.A.|      |                   57|  131705.57142857142|\n|CENTROCRED S.A. C...|      |                    2|            110491.5|\n+--------------------+------+---------------------+--------------------+\nonly showing top 20 rows\n",
					"output_type": "stream"
				}
			]
		},
		{
			"cell_type": "code",
			"source": "df_reclamacoes_filtrado.write.format(\"parquet\").mode(\"overwrite\").option(\"path\", f\"{output_s3_path}\").save()",
			"metadata": {
				"trusted": true,
				"tags": []
			},
			"execution_count": 6,
			"outputs": [
				{
					"name": "stdout",
					"text": "\n",
					"output_type": "stream"
				}
			]
		}
	]
}