{
	"metadata": {
		"kernelspec": {
			"name": "glue_pyspark",
			"display_name": "Glue PySpark",
			"language": "python"
		},
		"language_info": {
			"name": "Python_Glue_Session",
			"mimetype": "text/x-python",
			"codemirror_mode": {
				"name": "python",
				"version": 3
			},
			"pygments_lexer": "python3",
			"file_extension": ".py"
		}
	},
	"nbformat_minor": 4,
	"nbformat": 4,
	"cells": [
		{
			"cell_type": "markdown",
			"source": "# Imports",
			"metadata": {}
		},
		{
			"cell_type": "code",
			"source": "import pandas as pd\nfrom pyspark.sql import SparkSession\nfrom pyspark.sql.functions import col,regexp_replace\nimport pyarrow as pa\nimport pyarrow.parquet as pq",
			"metadata": {
				"trusted": true,
				"tags": []
			},
			"execution_count": 1,
			"outputs": [
				{
					"name": "stdout",
					"text": "Welcome to the Glue Interactive Sessions Kernel\nFor more information on available magic commands, please type %help in any new cell.\n\nPlease view our Getting Started page to access the most up-to-date information on the Interactive Sessions kernel: https://docs.aws.amazon.com/glue/latest/dg/interactive-sessions.html\nInstalled kernel version: 0.38.1 \nAuthenticating with environment variables and user-defined glue_role_arn: arn:aws:iam::218606466161:role/LabRole\nTrying to create a Glue session for the kernel.\nWorker Type: G.1X\nNumber of Workers: 5\nSession ID: 11829a74-a5dd-4bdb-b92c-e189cd60f626\nJob Type: glueetl\nApplying the following default arguments:\n--glue_kernel_version 0.38.1\n--enable-glue-datacatalog true\nWaiting for session 11829a74-a5dd-4bdb-b92c-e189cd60f626 to get into ready status...\nSession 11829a74-a5dd-4bdb-b92c-e189cd60f626 has been created.\n\n",
					"output_type": "stream"
				}
			]
		},
		{
			"cell_type": "code",
			"source": "# Inicialize a sessão Spark\nspark = SparkSession.builder \\\n    .appName(\"ReadS3DataEmpregados\") \\\n    .getOrCreate()\n\n# Construa o caminho completo para o arquivo no S3\ns3_path = f\"s3://218606466161-raw/Empregados/*.csv\"\noutput_s3_path = \"s3://218606466161-trusted/Empregados/\"\n\n# Leia o arquivo CSV do S3\ndf_empregados = spark.read.option(\"encoding\", \"UTF-8\").csv(s3_path, header=True, inferSchema=True, sep='|')\n",
			"metadata": {
				"trusted": true,
				"tags": []
			},
			"execution_count": 2,
			"outputs": [
				{
					"name": "stdout",
					"text": "\n",
					"output_type": "stream"
				}
			]
		},
		{
			"cell_type": "code",
			"source": "#df_empregados.show()",
			"metadata": {
				"trusted": true,
				"tags": []
			},
			"execution_count": 3,
			"outputs": [
				{
					"name": "stdout",
					"text": "+--------------------+-------------+-------------+--------------+--------------+--------------------+---------------------+----------------+--------------------+--------------------+--------------------+-----+-----------------+----------------------+-----------------+--------------+------------------------+-------------------------+---------------------------------+----------------------------------+--------+--------------------+-------------+\n|       employer_name|reviews_count|culture_count|salaries_count|benefits_count|    employer-website|employer-headquarters|employer-founded|   employer-industry|    employer-revenue|                 url|Geral|Cultura e valores|Diversidade e inclusão|Qualidade de vida|Alta liderança|Remuneração e benefícios|Oportunidades de carreira|Recomendam para outras pessoas(%)|Perspectiva positiva da empresa(%)|Segmento|                Nome|match_percent|\n+--------------------+-------------+-------------+--------------+--------------+--------------------+---------------------+----------------+--------------------+--------------------+--------------------+-----+-----------------+----------------------+-----------------+--------------+------------------------+-------------------------+---------------------------------+----------------------------------+--------+--------------------+-------------+\n|         BNP Paribas|        13000|         4100|         20000|          3600|http://www.group....|        Paris, França|          2000.0|/Explorar/melhore...|Mais de US$ 10 bi...|https://www.glass...|  3.8|              3.7|                   4.0|              3.8|           3.4|                     3.4|                      3.5|                             77.0|                              63.0|      S3|         BNP PARIBAS|          100|\n|         BTG Pactual|         1600|          683|          2800|           635|http://www.btgpac...|    São Paulo, Brasil|            null|/Explorar/melhore...|Desconhecida/não ...|https://www.glass...|  4.0|              3.7|                   3.5|              2.8|           3.7|                     4.4|                      4.2|                             78.0|                              73.0|      S1|         BTG PACTUAL|          100|\n|          Banco Alfa|          175|           74|           271|           105|http://www.alfane...|    São Paulo, Brasil|          1925.0|/Explorar/melhore...|Desconhecida/não ...|https://www.glass...|  3.5|              3.2|                   3.2|              3.1|           2.8|                     3.8|                      2.7|                             68.0|                              47.0|      S3|                ALFA|          100|\n|           Banco BMG|          445|          232|           704|           277|http://www.bancob...|    São Paulo, Brasil|          1930.0|/Explorar/melhore...|De US$ 1 a US$ 5 ...|https://www.glass...|  4.1|              3.9|                   4.1|              3.7|           3.6|                     4.2|                      3.5|                             79.0|                              63.0|      S3|                 BMG|          100|\n|      Banco Bradesco|        11000|         3300|         19000|          3200|http://www.bancob...|       Osasco, Brasil|          1943.0|/Explorar/melhore...|Mais de US$ 10 bi...|https://www.glass...|  4.2|              3.8|                   3.9|              3.4|           3.4|                     4.3|                      3.8|                             81.0|                              66.0|      S1|            BRADESCO|          100|\n|      Banco Daycoval|          300|          157|           521|           107|https://www.dayco...|    São Paulo, Brasil|          1971.0|/Explorar/melhore...|De US$ 25 a US$ 1...|https://www.glass...|  4.0|              3.7|                   3.6|              3.4|           3.3|                     4.1|                      3.4|                             78.0|                              72.0|      S3|  BANCO DAYCOVAL S.A|          100|\n|         Banco Fibra|          119|           41|           172|            37|http://www.bancof...|    São Paulo, Brasil|            null|/Explorar/melhore...|Desconhecida/não ...|https://www.glass...|  4.3|              4.3|                   4.3|              3.8|           3.7|                     4.2|                      3.6|                             87.0|                              84.0|      S3|    BANCO FIBRA S.A.|          100|\n|      Banco Original|          651|          286|          1100|           261|http://www.origin...|    São Paulo, Brasil|          2016.0|/Explorar/melhore...|Desconhecida/não ...|https://www.glass...|  3.8|              3.4|                   3.5|              3.4|           3.1|                     4.0|                      3.3|                             71.0|                              53.0|      S3|            ORIGINAL|          100|\n|           Banco PAN|         1100|          520|          1700|           493|http://www.bancop...|    São Paulo, Brasil|          2011.0|/Explorar/melhore...|Desconhecida/não ...|https://www.glass...|  4.4|              4.2|                   4.4|              3.9|           3.9|                     4.6|                      4.0|                             91.0|                              79.0|      S3|                 PAN|          100|\n|          Banco Pine|          121|           45|           216|            63| http://www.pine.com|    São Paulo, Brasil|          1997.0|/Explorar/melhore...|Desconhecida/não ...|https://www.glass...|  3.8|              3.5|                   3.5|              3.4|           3.0|                     3.9|                      3.5|                             71.0|                              50.0|      S3|                PINE|          100|\n|    Banco Votorantim|         1400|          563|          2100|           574|http://www.bancob...|    São Paulo, Brasil|          1991.0|/Explorar/melhore...|Desconhecida/não ...|https://www.glass...|  4.4|              4.3|                   4.4|              4.1|           3.9|                     4.6|                      3.9|                             93.0|                              79.0|      S2|          VOTORANTIM|          100|\n|     Banco do Brasil|         5000|         1100|          9200|          1200|https://www.bb.co...|     Brasília, Brasil|          1808.0|/Explorar/melhore...|Desconhecida/não ...|https://www.glass...|  4.3|              3.9|                   4.0|              3.7|           3.5|                     4.2|                      3.8|                             86.0|                              72.0|      S1|     BANCO DO BRASIL|          100|\n|Banco do Nordeste...|          525|          113|           840|           115|http://www.bnb.go...|    Fortaleza, Brasil|            null|/Explorar/melhore...|Desconhecido/Não ...|https://www.glass...|  4.5|              4.4|                   4.3|              4.3|           4.1|                     4.2|                      4.0|                             90.0|                              83.0|      S2|BANCO DO NORDESTE...|          100|\n|Bank Of Tokyo-Mit...|          770|          150|          1100|           228|http://www.bk.muf...|        Tóquio, Japão|          1919.0|/Explorar/melhore...|Mais de US$ 10 bi...|https://www.glass...|  3.6|              3.6|                   3.5|              3.4|           3.3|                     3.6|                      3.3|                             65.0|                              43.0|      S3|BANCO TOKYO-MITSU...|           80|\n|            Banrisul|         1000|          155|          1700|           127|http://www.banris...| Porto Alegre, Brasil|            null|/Explorar/melhore...|De US$ 25 a US$ 1...|https://www.glass...|  4.2|              3.6|                   3.8|              3.7|           3.4|                     4.1|                      3.3|                             84.0|                              59.0|      S2|            BANRISUL|          100|\n|Caixa Econômica F...|         4000|          717|          7300|           857|http://www.caixa....|     BRASILIA, Brasil|            null|/Explorar/melhore...|Desconhecida/não ...|https://www.glass...|  4.4|              3.8|                   4.2|              3.7|           3.5|                     4.3|                      3.9|                             86.0|                              72.0|      S1|CAIXA ECONOMICA F...|           98|\n|                Citi|        31000|         8900|         52000|          9900|http://www.citigr...| New York, Estados...|          1812.0|/Explorar/melhore...|Mais de US$ 10 bi...|https://www.glass...|  3.9|              3.8|                   4.1|              3.5|           3.5|                     3.8|                      3.9|                             76.0|                              68.0|      S2|            CITIBANK|          100|\n|       Credit Suisse|        11000|         3400|         22000|          2900|http://www.credit...|       Zurique, Suíça|          1856.0|/Explorar/melhore...|Mais de US$ 10 bi...|https://www.glass...|  3.8|              3.8|                   4.1|              3.9|           3.3|                     3.6|                      3.7|                             68.0|                              34.0|      S2|       CREDIT SUISSE|          100|\n|       Deutsche Bank|        12000|         3200|         21000|          3100|https://careers.d...| Frankfurt am Main...|          1870.0|/Explorar/melhore...|Mais de US$ 10 bi...|https://www.glass...|  3.9|              3.8|                   4.0|              3.8|           3.5|                     3.6|                      3.7|                             78.0|                              70.0|      S3|            DEUTSCHE|          100|\n|       Goldman Sachs|        17000|         4400|         36000|          4100|http://www.goldma...| New York, Estados...|          1869.0|/Explorar/melhore...|Mais de US$ 10 bi...|https://www.glass...|  3.9|              3.7|                   4.0|              2.9|           3.5|                     3.8|                      4.0|                             72.0|                              63.0|      S3|       GOLDMAN SACHS|          100|\n+--------------------+-------------+-------------+--------------+--------------+--------------------+---------------------+----------------+--------------------+--------------------+--------------------+-----+-----------------+----------------------+-----------------+--------------+------------------------+-------------------------+---------------------------------+----------------------------------+--------+--------------------+-------------+\nonly showing top 20 rows\n",
					"output_type": "stream"
				}
			]
		},
		{
			"cell_type": "code",
			"source": "#Agrupando e tirando a media\ndf_empregados = df_empregados.groupBy(\"Nome\").agg({\n        'Perspectiva positiva da empresa(%)': 'mean',\n        'Remuneração e benefícios': 'mean'\n    })\n#Renomeando colunas\ndf_empregados = df_empregados.withColumnRenamed(\"avg(Perspectiva positiva da empresa(%))\", \"satisfacao_empregado\") \\\n                          .withColumnRenamed(\"avg(Remuneração e benefícios)\", \"satisfacao_salario\")",
			"metadata": {
				"trusted": true,
				"tags": []
			},
			"execution_count": 4,
			"outputs": [
				{
					"name": "stdout",
					"text": "\n",
					"output_type": "stream"
				}
			]
		},
		{
			"cell_type": "code",
			"source": "df_empregados.write.format(\"parquet\").mode(\"overwrite\").option(\"path\", f\"{output_s3_path}\").save()",
			"metadata": {
				"trusted": true,
				"tags": []
			},
			"execution_count": 5,
			"outputs": [
				{
					"name": "stdout",
					"text": "\n",
					"output_type": "stream"
				}
			]
		}
	]
}