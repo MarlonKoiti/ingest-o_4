{
	"metadata": {
		"kernelspec": {
			"name": "glue_pyspark",
			"display_name": "Glue PySpark",
			"language": "python"
		},
		"language_info": {
			"name": "Python_Glue_Session",
			"mimetype": "text/x-python",
			"codemirror_mode": {
				"name": "python",
				"version": 3
			},
			"pygments_lexer": "python3",
			"file_extension": ".py"
		}
	},
	"nbformat_minor": 5,
	"nbformat": 4,
	"cells": [
		{
			"cell_type": "markdown",
			"source": "# Import",
			"metadata": {},
			"id": "455133ef-1275-4534-9ce5-cd3897fddebd"
		},
		{
			"cell_type": "code",
			"source": "import pandas as pd\nfrom pyspark.sql import SparkSession\nfrom pyspark.sql.functions import col,regexp_replace\nimport pyarrow as pa\nimport pyarrow.parquet as pq",
			"metadata": {
				"trusted": true,
				"tags": []
			},
			"execution_count": 6,
			"outputs": [
				{
					"name": "stdout",
					"text": "\n",
					"output_type": "stream"
				}
			],
			"id": "2a58d7cf-a7d5-4961-87a9-c4e1e4887bd9"
		},
		{
			"cell_type": "code",
			"source": "# Inicialize a sessão Spark\nspark = SparkSession.builder \\\n    .appName(\"ReadS3DataBancos\") \\\n    .getOrCreate()\n\n# Construa o caminho completo para o arquivo no S3\ns3_path = f\"s3://218606466161-raw/Bancos/*.tsv\"\noutput_s3_path = \"s3://218606466161-trusted/Bancos/\"\n\n# Leia o arquivo CSV do S3\ndf_bancos = spark.read.option(\"encoding\", \"UTF-8\").csv(s3_path, header=True, inferSchema=True, sep='\\t')\n",
			"metadata": {
				"trusted": true,
				"tags": []
			},
			"execution_count": 7,
			"outputs": [
				{
					"name": "stdout",
					"text": "\n",
					"output_type": "stream"
				}
			],
			"id": "42ac8aa9-036c-419e-a4ba-b13e88769923"
		},
		{
			"cell_type": "code",
			"source": "#Tratando o campo Nome\ndf_bancos = df_bancos.withColumn(\"Nome\", regexp_replace(col('Nome'), \" - PRUDENCIAL\", \"\"))",
			"metadata": {
				"trusted": true
			},
			"execution_count": 8,
			"outputs": [
				{
					"name": "stdout",
					"text": "\n",
					"output_type": "stream"
				}
			],
			"id": "fc4b8b53-c875-44e0-aaf8-e2017817d795"
		},
		{
			"cell_type": "code",
			"source": "#df_bancos.show()",
			"metadata": {
				"trusted": true,
				"tags": []
			},
			"execution_count": 2,
			"outputs": [],
			"id": "5360960a-0f09-4b18-bd4e-b3798042b3ec"
		},
		{
			"cell_type": "code",
			"source": "df_bancos.write.format(\"parquet\").mode(\"overwrite\").option(\"path\", f\"{output_s3_path}\").save()",
			"metadata": {
				"trusted": true,
				"tags": []
			},
			"execution_count": 9,
			"outputs": [
				{
					"name": "stdout",
					"text": "\n",
					"output_type": "stream"
				}
			],
			"id": "f4c43eee-1f9d-46bd-9b3d-629ee0c4b49b"
		},
		{
			"cell_type": "code",
			"source": "# Encerre a sessão Spark\nspark.stop()",
			"metadata": {
				"trusted": true,
				"tags": []
			},
			"execution_count": 67,
			"outputs": [
				{
					"name": "stdout",
					"text": "\n",
					"output_type": "stream"
				}
			],
			"id": "e7966bfd-fd7a-45de-af03-4be2d858ac9c"
		}
	]
}